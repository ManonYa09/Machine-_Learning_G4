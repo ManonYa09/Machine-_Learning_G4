{
 "cells": [
  {
   "cell_type": "markdown",
   "id": "86ac2ef4-cd02-4193-8038-0f6319527052",
   "metadata": {},
   "source": [
    "## House Prices Prediction"
   ]
  },
  {
   "cell_type": "markdown",
   "id": "eb41fef6-1ca8-49ba-8fb0-ef6aed14ce9d",
   "metadata": {},
   "source": [
    "- `SalePrice`: the property's sale price in dollars. This is the target variable that you're trying to predict.\n",
    "- MSSubClass: The building class\n",
    "- MSZoning: The general zoning classification\n",
    "- LotFrontage: Linear feet of street connected to property\n",
    "- LotArea: Lot size in square feet\n",
    "- Street: Type of road access\n",
    "- Alley: Type of alley access\n",
    "- LotShape: General shape of property\n",
    "- LandContour: Flatness of the property\n",
    "- Utilities: Type of utilities available\n",
    "- LotConfig: Lot configuration\n",
    "- LandSlope: Slope of property\n",
    "- Neighborhood: Physical locations within Ames city limits\n",
    "- Condition1: Proximity to main road or railroad\n",
    "- Condition2: Proximity to main road or railroad (if a second is present)\n",
    "- BldgType: Type of dwelling\n",
    "- HouseStyle: Style of dwelling\n",
    "- OverallQual: Overall material and finish quality\n",
    "- OverallCond: Overall condition rating\n",
    "- YearBuilt: Original construction date\n",
    "- YearRemodAdd: Remodel date\n",
    "- RoofStyle: Type of roof\n",
    "- RoofMatl: Roof material\n",
    "- Exterior1st: Exterior covering on house\n",
    "- Exterior2nd: Exterior covering on house (if more than one material)\n",
    "- MasVnrType: Masonry veneer type\n",
    "- MasVnrArea: Masonry veneer area in square feet\n",
    "- ExterQual: Exterior material quality\n",
    "- ExterCond: Present condition of the material on the exterior\n",
    "- Foundation: Type of foundation\n",
    "- BsmtQual: Height of the basement\n",
    "- BsmtCond: General condition of the basement\n",
    "- BsmtExposure: Walkout or garden level basement walls\n",
    "- BsmtFinType1: Quality of basement finished area\n",
    "- BsmtFinSF1: Type 1 finished square feet\n",
    "- BsmtFinType2: Quality of second finished area (if present)\n",
    "- BsmtFinSF2: Type 2 finished square feet\n",
    "- BsmtUnfSF: Unfinished square feet of basement area\n",
    "- TotalBsmtSF: Total square feet of basement area\n",
    "- Heating: Type of heating\n",
    "- HeatingQC: Heating quality and condition\n",
    "- CentralAir: Central air conditioning\n",
    "- Electrical: Electrical system\n",
    "- 1stFlrSF: First Floor square feet\n",
    "- 2ndFlrSF: Second floor square feet\n",
    "- LowQualFinSF: Low quality finished square feet (all floors)\n",
    "- GrLivArea: Above grade (ground) living area square feet\n",
    "- BsmtFullBath: Basement full bathrooms\n",
    "- BsmtHalfBath: Basement half bathrooms\n",
    "- FullBath: Full bathrooms above grade\n",
    "- HalfBath: Half baths above grade\n",
    "- Bedroom: Number of bedrooms above basement level\n",
    "- Kitchen: Number of kitchens\n",
    "- KitchenQual: Kitchen quality\n",
    "- TotRmsAbvGrd: Total rooms above grade (does not include bathrooms)\n",
    "- Functional: Home functionality rating\n",
    "- Fireplaces: Number of fireplaces\n",
    "- FireplaceQu: Fireplace quality\n",
    "- GarageType: Garage location\n",
    "- GarageYrBlt: Year garage was built\n",
    "- GarageFinish: Interior finish of the garage\n",
    "- GarageCars: Size of garage in car capacity\n",
    "- GarageArea: Size of garage in square feet\n",
    "- GarageQual: Garage quality\n",
    "- GarageCond: Garage condition\n",
    "- PavedDrive: Paved driveway\n",
    "- WoodDeckSF: Wood deck area in square feet\n",
    "- OpenPorchSF: Open porch area in square feet\n",
    "- EnclosedPorch: Enclosed porch area in square feet\n",
    "- 3SsnPorch: Three season porch area in square feet\n",
    "- ScreenPorch: Screen porch area in square feet\n",
    "- PoolArea: Pool area in square feet\n",
    "- PoolQC: Pool quality\n",
    "- Fence: Fence quality\n",
    "- MiscFeature: Miscellaneous feature not covered in other categories\n",
    "- MiscVal: $Value of miscellaneous feature\n",
    "- MoSold: Month Sold\n",
    "- YrSold: Year Sold\n",
    "- SaleType: Type of sale\n",
    "- SaleCondition: Condition of sale"
   ]
  },
  {
   "cell_type": "code",
   "execution_count": null,
   "id": "8c9ac9d9-3851-40e5-b015-29157025626c",
   "metadata": {},
   "outputs": [],
   "source": [
    "import pandas as pd\n",
    "import numpy as np\n",
    "import seaborn as sns\n",
    "import matplotlib.pyplot as plt\n",
    "pd.set_option('display.max_columns', None)\n",
    "\n",
    "from sklearn.model_selection import train_test_split\n",
    "\n",
    "from sklearn.pipeline import Pipeline"
   ]
  },
  {
   "cell_type": "code",
   "execution_count": null,
   "id": "85c1723a-fb4a-4f0c-bd53-b3a9bb68e5f7",
   "metadata": {},
   "outputs": [],
   "source": [
    "df = pd.read_csv('train.csv')\n",
    "target = 'SalePrice'"
   ]
  },
  {
   "cell_type": "code",
   "execution_count": null,
   "id": "8c95b3fa-5f5b-4e2b-82e7-ff9c86135069",
   "metadata": {},
   "outputs": [],
   "source": [
    "df.head()"
   ]
  },
  {
   "cell_type": "code",
   "execution_count": null,
   "id": "861dff33-5578-4c67-846a-5c0b9373f7c1",
   "metadata": {},
   "outputs": [],
   "source": [
    "df.info()"
   ]
  },
  {
   "cell_type": "code",
   "execution_count": null,
   "id": "76b4a4ce-a462-4457-a2c3-c5cece0e6741",
   "metadata": {},
   "outputs": [],
   "source": [
    "df['SaleType'].dtypes"
   ]
  },
  {
   "cell_type": "code",
   "execution_count": null,
   "id": "ea6817b2-913e-408b-8c50-e3c15c3778e2",
   "metadata": {
    "scrolled": true
   },
   "outputs": [],
   "source": [
    "missing_per = df.isnull().sum()*100/len(df)"
   ]
  },
  {
   "cell_type": "code",
   "execution_count": null,
   "id": "413dd8a4-8279-44bc-89ab-980406d55e25",
   "metadata": {},
   "outputs": [],
   "source": [
    "# for index, value in missing_per.items():\n",
    "#     print(value)\n"
   ]
  },
  {
   "cell_type": "code",
   "execution_count": null,
   "id": "cc9abd4a-82bc-4e5b-891e-1116eee6c8b3",
   "metadata": {},
   "outputs": [],
   "source": [
    "missing_less_than_10_per = []\n",
    "missing_greater_tha_10_per = []\n",
    "missing_greater_tha_20_per = []\n",
    "\n",
    "for col, value in missing_per.items():\n",
    "    if 0<value<=10:\n",
    "        missing_less_than_10_per.append(col)\n",
    "    elif 10<= value<=20: # value :[10, 20]\n",
    "        missing_greater_tha_10_per.append(col)\n",
    "    elif value>20: #value>30\n",
    "        missing_greater_tha_20_per.append(col)"
   ]
  },
  {
   "cell_type": "code",
   "execution_count": null,
   "id": "641acf74-7b1b-4c3b-bd6c-d8405572ef3f",
   "metadata": {},
   "outputs": [],
   "source": [
    "# 0< value <= 10\n"
   ]
  },
  {
   "cell_type": "code",
   "execution_count": null,
   "id": "2f729cb6-1636-4145-95d0-083786ae1921",
   "metadata": {},
   "outputs": [],
   "source": [
    "df[missing_greater_tha_20_per].isnull().sum()"
   ]
  },
  {
   "cell_type": "code",
   "execution_count": null,
   "id": "1b6ac41c-5eb4-4789-b92b-1b443f7d489b",
   "metadata": {},
   "outputs": [],
   "source": [
    "df.drop(columns=missing_greater_tha_20_per, inplace=True) "
   ]
  },
  {
   "cell_type": "code",
   "execution_count": null,
   "id": "3f9f4b60-7346-49fa-b94d-ab370255c7fb",
   "metadata": {},
   "outputs": [],
   "source": [
    "cat_columns = []\n",
    "num_columns = []\n",
    "yes_no_columns  = []\n",
    "\n",
    "for column in df.columns:\n",
    "    if column == target:\n",
    "        continue\n",
    "    elif df[column].nunique()==2:\n",
    "        yes_no_columns.append(column)\n",
    "    elif df[column].dtypes =='O':\n",
    "        cat_columns.append(column)\n",
    "    else:\n",
    "        num_columns.append(column)"
   ]
  },
  {
   "cell_type": "code",
   "execution_count": null,
   "id": "b565aa17-af09-4552-8737-f44789151bce",
   "metadata": {},
   "outputs": [],
   "source": [
    "(df.nunique()==2).sum()"
   ]
  },
  {
   "cell_type": "code",
   "execution_count": null,
   "id": "74c40953-0535-44fa-9f12-d330fcd67a29",
   "metadata": {},
   "outputs": [],
   "source": [
    "# df[yes_no_columns]"
   ]
  },
  {
   "cell_type": "code",
   "execution_count": null,
   "id": "273685f8-92a4-4535-a9d2-bd3893215f97",
   "metadata": {},
   "outputs": [],
   "source": [
    "yes_no_columns"
   ]
  },
  {
   "cell_type": "code",
   "execution_count": null,
   "id": "937347c1-a322-4f84-84f1-b6576c05b499",
   "metadata": {},
   "outputs": [],
   "source": [
    "df.shape"
   ]
  },
  {
   "cell_type": "code",
   "execution_count": null,
   "id": "f04f645f-62c9-4c39-925d-23f30b5e032a",
   "metadata": {},
   "outputs": [],
   "source": [
    "num_columns"
   ]
  },
  {
   "cell_type": "code",
   "execution_count": null,
   "id": "433fdae0-f6a9-45e7-b6df-43736ace560f",
   "metadata": {},
   "outputs": [],
   "source": [
    "df[num_columns].shape"
   ]
  },
  {
   "cell_type": "code",
   "execution_count": null,
   "id": "7dae6b1e-fcbf-4d3b-a4ba-776e46938eb9",
   "metadata": {},
   "outputs": [],
   "source": [
    "# cat_columns"
   ]
  },
  {
   "cell_type": "code",
   "execution_count": null,
   "id": "d5b7fd9c-d47c-4f74-9937-c2632b73c898",
   "metadata": {},
   "outputs": [],
   "source": [
    "df[cat_columns].shape"
   ]
  },
  {
   "cell_type": "code",
   "execution_count": null,
   "id": "465ceb0f-4bd8-4dce-ab32-3997b28f5878",
   "metadata": {},
   "outputs": [],
   "source": [
    "# df.info()"
   ]
  },
  {
   "cell_type": "markdown",
   "id": "406e571d-bebe-4dff-98d6-c026c5279e56",
   "metadata": {},
   "source": [
    "### Feature Engineering Pipeline"
   ]
  },
  {
   "cell_type": "code",
   "execution_count": null,
   "id": "ace094f2-8331-4ed7-a423-39bcfcdb71fe",
   "metadata": {},
   "outputs": [],
   "source": [
    "df = df.dropna()"
   ]
  },
  {
   "cell_type": "code",
   "execution_count": null,
   "id": "e3445fb3-a9ad-45b4-a720-5b21b0ac1ed0",
   "metadata": {},
   "outputs": [],
   "source": [
    "df.shape"
   ]
  },
  {
   "cell_type": "code",
   "execution_count": null,
   "id": "d07d3fd8-6b69-43d9-832d-77cd71409340",
   "metadata": {},
   "outputs": [],
   "source": [
    "from sklearn.preprocessing import StandardScaler, OneHotEncoder, OrdinalEncoder\n",
    "from sklearn.compose import ColumnTransformer\n",
    "from sklearn.pipeline import Pipeline\n",
    "\n",
    "from sklearn.linear_model import LinearRegression"
   ]
  },
  {
   "cell_type": "code",
   "execution_count": null,
   "id": "88a7fd94-6fad-4acc-8400-f20f2859c670",
   "metadata": {},
   "outputs": [],
   "source": [
    "preprocessing = ColumnTransformer([\n",
    "    ('scaling', StandardScaler(), num_columns),\n",
    "    ('oneHot', OneHotEncoder(), cat_columns ),\n",
    "    ('yes_no', OrdinalEncoder(), yes_no_columns)\n",
    "])\n",
    "Training_Pipeline = Pipeline([\n",
    "    ('preprocessing', preprocessing),\n",
    "    ('model', LinearRegression())\n",
    "])"
   ]
  },
  {
   "cell_type": "code",
   "execution_count": null,
   "id": "f401ad9c-35d0-4df2-b89c-7a0e7a198838",
   "metadata": {},
   "outputs": [],
   "source": [
    "x, y = df.drop(columns=target), df[target]\n",
    "X_train, X_test, y_train, y_test = train_test_split(x, y, test_size=0.01)"
   ]
  },
  {
   "cell_type": "code",
   "execution_count": null,
   "id": "aa89eec0-3c81-4def-9a95-771e467979c5",
   "metadata": {},
   "outputs": [],
   "source": [
    "Training_Pipeline.fit(X_train, y_train)"
   ]
  },
  {
   "cell_type": "code",
   "execution_count": null,
   "id": "79db875a-596a-47c8-b042-11d83ded3a7d",
   "metadata": {},
   "outputs": [],
   "source": [
    "df['LotShape'].unique()"
   ]
  },
  {
   "cell_type": "code",
   "execution_count": null,
   "id": "75180825-dc24-4e04-bc49-753d8a075ed1",
   "metadata": {},
   "outputs": [],
   "source": [
    "X_test"
   ]
  },
  {
   "cell_type": "code",
   "execution_count": null,
   "id": "7e22e4d8-a4e5-4ce0-9fbe-87f5c40fe613",
   "metadata": {},
   "outputs": [],
   "source": [
    "y_prediction = Training_Pipeline.predict(X_test)"
   ]
  },
  {
   "cell_type": "code",
   "execution_count": null,
   "id": "15e5c416-75b5-404a-9044-91cf025ad5b4",
   "metadata": {},
   "outputs": [],
   "source": [
    "from sklearn.metrics import mean_absolute_error, mean_squared_error"
   ]
  },
  {
   "cell_type": "code",
   "execution_count": null,
   "id": "a658d02f-52f0-47e0-a8e9-d1221ad620a0",
   "metadata": {},
   "outputs": [],
   "source": [
    "mean_absolute_error()"
   ]
  },
  {
   "cell_type": "code",
   "execution_count": null,
   "id": "f20ad773-d38d-4020-b316-d666b21c257a",
   "metadata": {},
   "outputs": [],
   "source": [
    "y_prediction"
   ]
  },
  {
   "cell_type": "code",
   "execution_count": null,
   "id": "e40ffaa2-5ba0-4d0a-b370-5202c8eac1cb",
   "metadata": {},
   "outputs": [],
   "source": [
    "cat_columns"
   ]
  },
  {
   "cell_type": "markdown",
   "id": "11b7a5eb-33eb-47d2-ba36-bd0ebb80ccca",
   "metadata": {},
   "source": [
    "### Detecting Multicollinearity\n",
    "A statistical technique called the **variance inflation factor (VIF)** can detect and measure the amount of collinearity in a multiple regression model.\n",
    "- A VIF of 1 will mean that the variables are not correlated.\n",
    "- A VIF between 1 and 5 shows that variables are moderately correlated.\n",
    "- A VIF between 5 and 10 will mean that variables are highly correlated.\n",
    "```python\n",
    "# def VIF(x):\n",
    "#     vif = pd.DataFrame({\n",
    "#         'Features': x.columns,\n",
    "#         'VIF': [variance_inflation_factor(x.values, i) for i in range(x.shape[1])]\n",
    "#     })\n",
    "#     vif['VIF'] = vif['VIF'].round(2)\n",
    "#     vif = vif.sort_values(by='VIF', ascending=False).reset_index(drop=True)\n",
    "#     return vif\n",
    "```\n",
    "from statsmodels.stats.outliers_influence import variance_inflation_factor"
   ]
  },
  {
   "cell_type": "code",
   "execution_count": null,
   "id": "86b207e4-80af-4d61-9dda-ca00253af80e",
   "metadata": {},
   "outputs": [],
   "source": []
  }
 ],
 "metadata": {
  "kernelspec": {
   "display_name": "Python 3 (ipykernel)",
   "language": "python",
   "name": "python3"
  },
  "language_info": {
   "codemirror_mode": {
    "name": "ipython",
    "version": 3
   },
   "file_extension": ".py",
   "mimetype": "text/x-python",
   "name": "python",
   "nbconvert_exporter": "python",
   "pygments_lexer": "ipython3",
   "version": "3.11.5"
  }
 },
 "nbformat": 4,
 "nbformat_minor": 5
}
