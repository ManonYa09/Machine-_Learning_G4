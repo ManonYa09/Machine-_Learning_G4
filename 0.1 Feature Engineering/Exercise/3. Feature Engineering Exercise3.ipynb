{
 "cells": [
  {
   "cell_type": "markdown",
   "id": "34722bbb-1f8b-4b7a-b557-e35937b59a60",
   "metadata": {},
   "source": [
    "#### Exercise"
   ]
  },
  {
   "cell_type": "markdown",
   "id": "f9830a5f-2e30-4dff-abb4-1f215f875015",
   "metadata": {},
   "source": [
    "### 1. Encoding Categorical Varaible\n",
    "### 2. Feature Scaling\n",
    "### 3. Data Splitting"
   ]
  },
  {
   "cell_type": "code",
   "execution_count": 3,
   "id": "bfbe7b76-5105-4dc4-8d93-19ba8cdeecd8",
   "metadata": {},
   "outputs": [],
   "source": [
    "import pandas as pd"
   ]
  },
  {
   "cell_type": "code",
   "execution_count": 4,
   "id": "cdcb6ece-6100-4583-90b1-aa6e297b4b6f",
   "metadata": {},
   "outputs": [],
   "source": [
    "df1 = pd.read_csv('https://raw.githubusercontent.com/ManonYa09/Machine-_Learning_G4/refs/heads/main/Dataset/0.%20education_districtwise.csv')\n",
    "df2 = pd.read_csv('https://raw.githubusercontent.com/ManonYa09/Machine-_Learning_G4/refs/heads/main/Dataset/2.%20Bank%20Customer%20Churn%20Prediction.csv')\n",
    "df3 = pd.read_csv('https://raw.githubusercontent.com/ManonYa09/Machine-_Learning_G4/refs/heads/main/Dataset/6.%20Human_Resources.csv')\n",
    "df4 = pd.read_csv('https://raw.githubusercontent.com/ManonYa09/Machine-_Learning_G4/refs/heads/main/Dataset/8.%20Salaries.csv')"
   ]
  },
  {
   "cell_type": "code",
   "execution_count": null,
   "id": "5fdba2f0-51bd-4c42-b9f3-50b15de34106",
   "metadata": {},
   "outputs": [],
   "source": []
  }
 ],
 "metadata": {
  "kernelspec": {
   "display_name": "Python 3 (ipykernel)",
   "language": "python",
   "name": "python3"
  },
  "language_info": {
   "codemirror_mode": {
    "name": "ipython",
    "version": 3
   },
   "file_extension": ".py",
   "mimetype": "text/x-python",
   "name": "python",
   "nbconvert_exporter": "python",
   "pygments_lexer": "ipython3",
   "version": "3.11.5"
  }
 },
 "nbformat": 4,
 "nbformat_minor": 5
}
