{
 "cells": [
  {
   "cell_type": "markdown",
   "id": "20d8df29-68cf-46c4-ab1f-6d937ddecd82",
   "metadata": {},
   "source": [
    "- [1. Exploring The Dataset](#a)\n",
    "    - [1.1 Load The Datset](#1.1)\n",
    "    - [1.2 Data Description](#1.2)\n",
    "    - [1.3 Data Cleaning](#1.3)\n",
    "        - [1.3.1 Missing Value](#1.3.1)\n",
    "        - [1.3.2 Duplicated](#1.3.2)\n",
    "        - [1.3.3 Outliter](#1.3.3)\n",
    "- [2.Data Visualization and Exploratory Data Anlysis(EDA)](#2)\n",
    "    - [2.1 Gender, Seniority, Partner and Pependends](#2.1)\n",
    "    - [2.2 Services](#2.2)\n",
    "    - [2.3 Security_support](#2.3)\n",
    "    - [2.4 Contract type](#2.4)\n",
    "    - [2.5 Churn analysis based on paying options](#2.5)\n",
    "    - [2.6 Churn analysis based on tenure group](#2.6)\n",
    "    - [2.7 Charges](#2.7)\n",
    "- [3. Data preprocessing and feature engineering](#4)\n",
    "    - [3.1 Encoding Categorical Variables](#4.2)\n",
    "        - [3.2.1 Label Encoding](#4.2.1)\n",
    "        - [3.2.2 One hot Encoding](#4.2.2)\n",
    "    - [3.2 Min-Max Scaling or Standardization?](#4.1)"
   ]
  },
  {
   "cell_type": "code",
   "execution_count": 4,
   "id": "4b0e6d4e-fd74-44a3-aa09-3d638283cfee",
   "metadata": {},
   "outputs": [],
   "source": [
    "import pandas as pd\n",
    "import numpy as np\n",
    "import seaborn as sns\n",
    "import warnings\n",
    "warnings.filterwarnings('ignore')"
   ]
  },
  {
   "cell_type": "code",
   "execution_count": 6,
   "id": "27231312-8868-4f71-864a-3145047e4611",
   "metadata": {},
   "outputs": [],
   "source": [
    "df = pd.read_csv('https://raw.githubusercontent.com/ManonYa09/Machine-_Learning_G4/refs/heads/main/Dataset/4.%20WA_Fn-UseC_-Telco-Customer-Churn.csv')"
   ]
  },
  {
   "cell_type": "code",
   "execution_count": null,
   "id": "22fad26a-7749-4a90-8b17-6f2b0a28ff8d",
   "metadata": {},
   "outputs": [],
   "source": []
  }
 ],
 "metadata": {
  "kernelspec": {
   "display_name": "Python 3 (ipykernel)",
   "language": "python",
   "name": "python3"
  },
  "language_info": {
   "codemirror_mode": {
    "name": "ipython",
    "version": 3
   },
   "file_extension": ".py",
   "mimetype": "text/x-python",
   "name": "python",
   "nbconvert_exporter": "python",
   "pygments_lexer": "ipython3",
   "version": "3.11.5"
  }
 },
 "nbformat": 4,
 "nbformat_minor": 5
}
