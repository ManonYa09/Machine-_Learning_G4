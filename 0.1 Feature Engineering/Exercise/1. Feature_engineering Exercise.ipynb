{
 "cells": [
  {
   "cell_type": "code",
   "execution_count": 2,
   "id": "36862ee9-8de1-4039-8e85-acfe99bd03d5",
   "metadata": {},
   "outputs": [],
   "source": [
    "import pandas as pd"
   ]
  },
  {
   "cell_type": "code",
   "execution_count": 6,
   "id": "caae178c-8cb3-483d-90ec-2fd44f50af26",
   "metadata": {},
   "outputs": [],
   "source": [
    "df = pd.read_csv('https://raw.githubusercontent.com/solegalli/feature-engineering-for-machine-learning/refs/heads/main/Datasets/loan.csv')"
   ]
  },
  {
   "cell_type": "markdown",
   "id": "650e1378-a187-497c-9ebc-11a29704511d",
   "metadata": {},
   "source": [
    "- [1. Exploring The Dataset](#a)\n",
    "    - [1.1 Load The Datset](#1.1)\n",
    "    - [1.2 Data Description](#1.2)\n",
    "    - [1.3 Data Cleaning](#1.3)\n",
    "        - [1.3.1 Missing Value](#1.3.1)\n",
    "        - [1.3.2 Duplicated](#1.3.2)\n",
    "        - [1.3.3 Outliter](#1.3.3)"
   ]
  },
  {
   "cell_type": "markdown",
   "id": "0a648f58-a72d-474b-a6cd-ad2581394330",
   "metadata": {},
   "source": [
    "- [2.Data Visualization and Diagnostics](#)"
   ]
  },
  {
   "cell_type": "markdown",
   "id": "518648e8-09e4-4858-8d3e-5dd85d023331",
   "metadata": {},
   "source": [
    "- [3. Data preprocessing (perform feature engineering)](#4)\n",
    "- [4. Data Splitting](#)"
   ]
  },
  {
   "cell_type": "code",
   "execution_count": null,
   "id": "2fe19aea-30b0-47ea-bb79-9d36841347a5",
   "metadata": {},
   "outputs": [],
   "source": []
  }
 ],
 "metadata": {
  "kernelspec": {
   "display_name": "Python 3 (ipykernel)",
   "language": "python",
   "name": "python3"
  },
  "language_info": {
   "codemirror_mode": {
    "name": "ipython",
    "version": 3
   },
   "file_extension": ".py",
   "mimetype": "text/x-python",
   "name": "python",
   "nbconvert_exporter": "python",
   "pygments_lexer": "ipython3",
   "version": "3.11.5"
  }
 },
 "nbformat": 4,
 "nbformat_minor": 5
}
