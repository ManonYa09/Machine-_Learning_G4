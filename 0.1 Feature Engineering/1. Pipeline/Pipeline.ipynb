{
 "cells": [
  {
   "cell_type": "code",
   "execution_count": 98,
   "id": "8095e3a8-a8c4-49ce-bd12-8883b29205d2",
   "metadata": {},
   "outputs": [],
   "source": [
    "import pandas as pd\n",
    "import numpy as np\n",
    "import matplotlib.pyplot as plt\n",
    "import warnings\n",
    "warnings.filterwarnings('ignore')\n",
    "\n",
    "#for the model\n",
    "from sklearn.model_selection import train_test_split\n",
    "from sklearn.linear_model import LogisticRegression\n",
    "from sklearn.pipeline import Pipeline\n",
    "\n",
    "# for feature engineering\n",
    "from sklearn.model_selection import train_test_split\n",
    "from sklearn.preprocessing import OneHotEncoder, OrdinalEncoder, StandardScaler, LabelEncoder\n",
    "## for Pipeline\n",
    "from sklearn.compose import ColumnTransformer\n",
    "from sklearn.pipeline import Pipeline"
   ]
  },
  {
   "cell_type": "code",
   "execution_count": 4,
   "id": "c900870a-3bfc-421e-9a4a-f5afb902939d",
   "metadata": {},
   "outputs": [],
   "source": [
    "df = pd.read_csv('https://raw.githubusercontent.com/ManonYa09/Machine-_Learning_G4/refs/heads/main/Dataset/4.%20WA_Fn-UseC_-Telco-Customer-Churn.csv')\n",
    "df['TotalCharges'] = pd.to_numeric(df['TotalCharges'] , errors='coerce')\n",
    "df  = df.dropna()\n",
    "df = df.drop(columns='customerID')"
   ]
  },
  {
   "cell_type": "code",
   "execution_count": 140,
   "id": "78fd0a40-e6e1-4b81-9b2b-a625c36ff1f7",
   "metadata": {},
   "outputs": [],
   "source": [
    "yes_no_column = []\n",
    "cat_column = []\n",
    "num_column = []\n",
    "\n",
    "for column in df.columns:\n",
    "    if column=='Churn':\n",
    "        continue\n",
    "    elif df[column].nunique()==2:\n",
    "            yes_no_column.append(column)\n",
    "    elif df[column].nunique()<=4:\n",
    "        cat_column.append(column)\n",
    "    else:\n",
    "        num_column.append(column)    "
   ]
  },
  {
   "cell_type": "markdown",
   "id": "9d3085a7-a150-4043-8150-1358894d2c45",
   "metadata": {},
   "source": [
    "### Data Preprocessing Pipeline"
   ]
  }
 ],
 "metadata": {
  "kernelspec": {
   "display_name": "Python 3 (ipykernel)",
   "language": "python",
   "name": "python3"
  },
  "language_info": {
   "codemirror_mode": {
    "name": "ipython",
    "version": 3
   },
   "file_extension": ".py",
   "mimetype": "text/x-python",
   "name": "python",
   "nbconvert_exporter": "python",
   "pygments_lexer": "ipython3",
   "version": "3.11.5"
  }
 },
 "nbformat": 4,
 "nbformat_minor": 5
}
